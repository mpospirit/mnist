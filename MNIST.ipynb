{
 "cells": [
  {
   "cell_type": "markdown",
   "id": "de38a2b8",
   "metadata": {},
   "source": [
    "#### Libraries and Data"
   ]
  },
  {
   "cell_type": "code",
   "execution_count": 6,
   "id": "c57ca4e0",
   "metadata": {},
   "outputs": [],
   "source": [
    "import numpy as np\n",
    "import tensorflow as tf\n",
    "\n",
    "import tensorflow_datasets as tfds"
   ]
  },
  {
   "cell_type": "code",
   "execution_count": 9,
   "id": "a9eef5d5",
   "metadata": {},
   "outputs": [],
   "source": [
    "mnist_dataset, mnist_info=tfds.load(name='mnist', with_info=True, as_supervised=True)"
   ]
  },
  {
   "cell_type": "markdown",
   "id": "4ffbddf2",
   "metadata": {},
   "source": [
    "#### Preprocessing"
   ]
  },
  {
   "cell_type": "code",
   "execution_count": 10,
   "id": "d79d7c90",
   "metadata": {},
   "outputs": [],
   "source": [
    "mnist_train=mnist_dataset['train']\n",
    "mnist_test=mnist_dataset['test']\n",
    "\n",
    "num_validation_samples= 0.1 *mnist_info.splits['train'].num_examples\n",
    "num_validation_samples=tf.cast(num_validation_samples, tf.int64)\n",
    "\n",
    "num_test_samples=mnist_info.splits['test'].num_examples\n",
    "num_test_samples=tf.cast(num_test_samples, tf.int64)\n",
    "\n",
    "def scale(image,label):\n",
    "    image=tf.cast(image, tf.float32)\n",
    "    image /= 255.\n",
    "    return image,label\n",
    "\n",
    "scaled_train_and_validation_data=mnist_train.map(scale)\n",
    "test_data=mnist_test.map(scale)\n",
    "\n",
    "BUFFER_SIZE=10000\n",
    "#we can't shuffle all dataset all at once if it's big enough\n",
    "shuffled_train_and_validation_data=scaled_train_and_validation_data.shuffle(BUFFER_SIZE)\n",
    "\n",
    "validation_data=shuffled_train_and_validation_data.take(num_validation_samples)\n",
    "train_data=shuffled_train_and_validation_data.skip(num_validation_samples)\n",
    "\n",
    "#batch-size=1: SGD\n",
    "BATCH_SIZE=100\n",
    "train_data=train_data.batch(BATCH_SIZE)\n",
    "validation_data=validation_data.batch(num_validation_samples)\n",
    "test_data=test_data.batch(num_test_samples)\n",
    "\n",
    "validation_inputs, validation_targets=next(iter(validation_data))"
   ]
  },
  {
   "cell_type": "markdown",
   "id": "29209fd1",
   "metadata": {},
   "source": [
    "#### Model outline"
   ]
  },
  {
   "cell_type": "code",
   "execution_count": 16,
   "id": "14d0c4a4",
   "metadata": {},
   "outputs": [],
   "source": [
    "input_size=784\n",
    "output_size=10\n",
    "hidden_layer_size=100 #assuming all hidden layers are equa\n",
    "\n",
    "model=tf.keras.Sequential([\n",
    "                          tf.keras.layers.Flatten(input_shape=(28,28,1)),\n",
    "                          tf.keras.layers.Dense(hidden_layer_size, activation='relu'),\n",
    "                          tf.keras.layers.Dense(hidden_layer_size, activation='relu'),\n",
    "                          tf.keras.layers.Dense(output_size, activation='softmax')                    \n",
    "                          ])"
   ]
  },
  {
   "cell_type": "markdown",
   "id": "5ebf629e",
   "metadata": {},
   "source": [
    "#### Optimizer and loss function"
   ]
  },
  {
   "cell_type": "code",
   "execution_count": 17,
   "id": "905d15eb",
   "metadata": {},
   "outputs": [],
   "source": [
    "model.compile(optimizer='adam',loss='sparse_categorical_crossentropy',metrics=['accuracy'])"
   ]
  },
  {
   "cell_type": "markdown",
   "id": "f16b9085",
   "metadata": {},
   "source": [
    "#### Training"
   ]
  },
  {
   "cell_type": "code",
   "execution_count": 18,
   "id": "9844b676",
   "metadata": {},
   "outputs": [
    {
     "name": "stdout",
     "output_type": "stream",
     "text": [
      "Epoch 1/5\n",
      "540/540 - 3s - loss: 0.3353 - accuracy: 0.9053 - val_loss: 0.1644 - val_accuracy: 0.9512 - 3s/epoch - 6ms/step\n",
      "Epoch 2/5\n",
      "540/540 - 3s - loss: 0.1385 - accuracy: 0.9587 - val_loss: 0.1179 - val_accuracy: 0.9620 - 3s/epoch - 5ms/step\n",
      "Epoch 3/5\n",
      "540/540 - 2s - loss: 0.0982 - accuracy: 0.9702 - val_loss: 0.0929 - val_accuracy: 0.9727 - 2s/epoch - 5ms/step\n",
      "Epoch 4/5\n",
      "540/540 - 2s - loss: 0.0748 - accuracy: 0.9769 - val_loss: 0.0740 - val_accuracy: 0.9785 - 2s/epoch - 4ms/step\n",
      "Epoch 5/5\n",
      "540/540 - 2s - loss: 0.0591 - accuracy: 0.9822 - val_loss: 0.0642 - val_accuracy: 0.9808 - 2s/epoch - 4ms/step\n"
     ]
    },
    {
     "data": {
      "text/plain": [
       "<keras.callbacks.History at 0x224a673feb0>"
      ]
     },
     "execution_count": 18,
     "metadata": {},
     "output_type": "execute_result"
    }
   ],
   "source": [
    "NUM_EPOCHS=5\n",
    "\n",
    "model.fit(train_data, epochs= NUM_EPOCHS, validation_data=(validation_inputs, validation_targets), verbose=2)"
   ]
  },
  {
   "cell_type": "markdown",
   "id": "7aa9f529",
   "metadata": {},
   "source": [
    "#### Test"
   ]
  },
  {
   "cell_type": "code",
   "execution_count": 20,
   "id": "b6eb9acb",
   "metadata": {},
   "outputs": [
    {
     "name": "stdout",
     "output_type": "stream",
     "text": [
      "1/1 [==============================] - 0s 230ms/step - loss: 0.0766 - accuracy: 0.9756\n",
      "Test loss: 0.08, Test accuracy: 97.56%\n"
     ]
    }
   ],
   "source": [
    "test_loss, test_accuracy=model.evaluate(test_data)\n",
    "print('Test loss: {0:.2f}, Test accuracy: {1:.2f}%'.format(test_loss, test_accuracy*100.))"
   ]
  },
  {
   "cell_type": "markdown",
   "id": "a2e4198b",
   "metadata": {},
   "source": [
    "Test accuracy is close to validation accuracy so there is no overfitting"
   ]
  },
  {
   "cell_type": "code",
   "execution_count": null,
   "id": "97940c29",
   "metadata": {},
   "outputs": [],
   "source": []
  },
  {
   "cell_type": "code",
   "execution_count": null,
   "id": "92725f7a",
   "metadata": {},
   "outputs": [],
   "source": []
  },
  {
   "cell_type": "code",
   "execution_count": null,
   "id": "03e168df",
   "metadata": {},
   "outputs": [],
   "source": []
  },
  {
   "cell_type": "code",
   "execution_count": null,
   "id": "b405b6a0",
   "metadata": {},
   "outputs": [],
   "source": []
  }
 ],
 "metadata": {
  "kernelspec": {
   "display_name": "Python 3 (ipykernel)",
   "language": "python",
   "name": "python3"
  },
  "language_info": {
   "codemirror_mode": {
    "name": "ipython",
    "version": 3
   },
   "file_extension": ".py",
   "mimetype": "text/x-python",
   "name": "python",
   "nbconvert_exporter": "python",
   "pygments_lexer": "ipython3",
   "version": "3.8.12"
  }
 },
 "nbformat": 4,
 "nbformat_minor": 5
}
